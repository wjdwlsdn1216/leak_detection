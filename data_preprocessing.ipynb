{
 "cells": [
  {
   "cell_type": "code",
   "execution_count": 13,
   "metadata": {},
   "outputs": [],
   "source": [
    "import numpy as np\n",
    "import pandas as pd"
   ]
  },
  {
   "cell_type": "code",
   "execution_count": 14,
   "metadata": {},
   "outputs": [],
   "source": [
    "train_leak_out = pd.read_csv('./data/Training/1.옥외누수(out-training).csv')\n",
    "train_leak_in = pd.read_csv('./data/Training/2.옥내누수(in-training).csv')\n",
    "train_leak_noise = pd.read_csv('./data/Training/3.기계.전기음(noise-training).csv')\n",
    "train_leak_other = pd.read_csv('./data/Training/4.환경음(other-training).csv')\n",
    "train_leak_normal = pd.read_csv('./data/Training/5.정상음(normal-training).csv')\n",
    "\n",
    "test_leak_out = pd.read_csv('./data/Validation/1.옥외누수(out-validation).csv')\n",
    "test_leak_in = pd.read_csv('./data/Validation/2.옥내누수(in-validation).csv')\n",
    "test_leak_noise = pd.read_csv('./data/Validation/3.기계.전기음(noise-validation).csv')\n",
    "test_leak_other = pd.read_csv('./data/Validation/4.환경음(other-validation).csv')\n",
    "test_leak_normal = pd.read_csv('./data/Validation/5.정상음(normal-validation).csv')"
   ]
  },
  {
   "cell_type": "code",
   "execution_count": 15,
   "metadata": {},
   "outputs": [],
   "source": [
    "train_data = pd.concat([train_leak_out, train_leak_in, train_leak_noise, train_leak_other, train_leak_normal])\n",
    "test_data = pd.concat([test_leak_out, test_leak_in, test_leak_noise, test_leak_other, test_leak_normal])"
   ]
  },
  {
   "cell_type": "code",
   "execution_count": 16,
   "metadata": {},
   "outputs": [],
   "source": [
    "train_data.to_csv('./data/Training/train_data.csv', index=False)\n",
    "test_data.to_csv('./data/Validation/test_data.csv', index=False)"
   ]
  }
 ],
 "metadata": {
  "interpreter": {
   "hash": "f5988a9c0629bc6206c0490a98ee9a4b71cbd47c6131459cbfc715f911a1ba94"
  },
  "kernelspec": {
   "display_name": "Python 3.7.13 ('leak')",
   "language": "python",
   "name": "python3"
  },
  "language_info": {
   "codemirror_mode": {
    "name": "ipython",
    "version": 3
   },
   "file_extension": ".py",
   "mimetype": "text/x-python",
   "name": "python",
   "nbconvert_exporter": "python",
   "pygments_lexer": "ipython3",
   "version": "3.7.13"
  },
  "orig_nbformat": 4
 },
 "nbformat": 4,
 "nbformat_minor": 2
}
